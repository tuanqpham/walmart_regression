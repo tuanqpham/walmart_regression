{
 "cells": [
  {
   "cell_type": "markdown",
   "id": "75706b49-0505-4ded-8f14-f9db95ee1c63",
   "metadata": {},
   "source": [
    "## Factor Affecting The Weekly Walmart Sales\n",
    "__Created by: Tuan Quang (Finn) Pham, Saniya Nadeem__\n",
    "### A. Introduction:\n",
    "- According to an article discussing the role of sales in business firms, Zach Lazzari (2018) argues that sales is a crucial element for the survival of an organization. Furthermore, it has a significant impact on other aspects of a business such as the firm's overall profit, brand image and most importantly, it reflects customers' perceptions of the organization. \n",
    "\n",
    "- In this project, we will be focusing on the weekly sales conditions of Walmart - a global corporation known for its extensive network of stores and diverse products offering. Specifically, we plan to assess several external factors we believe that will have an impact on the number of sales of the company. \n",
    "\n",
    "- Throughout this analysis, we hope to aid organizations in making informed decisions and optimizing business operations. From our perspective, with a predictive model of high accuracy level, Walmart will be able to proactively respond to market dynamics, mitigate risks, and capitalize emerging opportunites.Walmart can also use this to improve inventory management, optimize staffing levels, tailor promotional strategies, and enhance overall efficiency. This will help the firm maintain a competitive edge in the retail industry and can also heop firm maximise profits. \n",
    "\n",
    "### B. Methods and Plans:\n",
    "- __Research question of interest__: What is the weekly sales of Walmart based on the economics conditions and other events that presented throughout the week?\n",
    "- __How will we answer our requestion__: We are aiming to build two different regression models: __multiple regression__ and __LASSO regression__. We will later on compare these two models by looking at the __Mean Sqaured Error__ (which indicates how far off our prediction is from the actual values) and finalize the best model at the end of this report. \n",
    "- __The dataset__: Our dataset was published by M. Yasser H. on Kaggle, we present below here a short glimpse of our dataset."
   ]
  },
  {
   "cell_type": "code",
   "execution_count": 5,
   "id": "8dab398a-2f22-4798-9d42-1a420e3167e2",
   "metadata": {},
   "outputs": [],
   "source": [
    "import numpy as np\n",
    "import pandas as pd\n",
    "import matplotlib.pyplot as plt\n",
    "import math \n",
    "import seaborn as sns\n",
    "import os"
   ]
  },
  {
   "cell_type": "code",
   "execution_count": 6,
   "id": "debd960e-c060-45a0-bf4d-9631de7d5527",
   "metadata": {
    "tags": []
   },
   "outputs": [
    {
     "data": {
      "text/html": [
       "<div>\n",
       "<style scoped>\n",
       "    .dataframe tbody tr th:only-of-type {\n",
       "        vertical-align: middle;\n",
       "    }\n",
       "\n",
       "    .dataframe tbody tr th {\n",
       "        vertical-align: top;\n",
       "    }\n",
       "\n",
       "    .dataframe thead th {\n",
       "        text-align: right;\n",
       "    }\n",
       "</style>\n",
       "<table border=\"1\" class=\"dataframe\">\n",
       "  <thead>\n",
       "    <tr style=\"text-align: right;\">\n",
       "      <th></th>\n",
       "      <th>Store</th>\n",
       "      <th>Date</th>\n",
       "      <th>Weekly_Sales</th>\n",
       "      <th>Holiday_Flag</th>\n",
       "      <th>Temperature</th>\n",
       "      <th>Fuel_Price</th>\n",
       "      <th>CPI</th>\n",
       "      <th>Unemployment</th>\n",
       "    </tr>\n",
       "  </thead>\n",
       "  <tbody>\n",
       "    <tr>\n",
       "      <th>0</th>\n",
       "      <td>1</td>\n",
       "      <td>05-02-2010</td>\n",
       "      <td>1643690.90</td>\n",
       "      <td>0</td>\n",
       "      <td>42.31</td>\n",
       "      <td>2.572</td>\n",
       "      <td>211.096358</td>\n",
       "      <td>8.106</td>\n",
       "    </tr>\n",
       "    <tr>\n",
       "      <th>1</th>\n",
       "      <td>1</td>\n",
       "      <td>12-02-2010</td>\n",
       "      <td>1641957.44</td>\n",
       "      <td>1</td>\n",
       "      <td>38.51</td>\n",
       "      <td>2.548</td>\n",
       "      <td>211.242170</td>\n",
       "      <td>8.106</td>\n",
       "    </tr>\n",
       "    <tr>\n",
       "      <th>2</th>\n",
       "      <td>1</td>\n",
       "      <td>19-02-2010</td>\n",
       "      <td>1611968.17</td>\n",
       "      <td>0</td>\n",
       "      <td>39.93</td>\n",
       "      <td>2.514</td>\n",
       "      <td>211.289143</td>\n",
       "      <td>8.106</td>\n",
       "    </tr>\n",
       "    <tr>\n",
       "      <th>3</th>\n",
       "      <td>1</td>\n",
       "      <td>26-02-2010</td>\n",
       "      <td>1409727.59</td>\n",
       "      <td>0</td>\n",
       "      <td>46.63</td>\n",
       "      <td>2.561</td>\n",
       "      <td>211.319643</td>\n",
       "      <td>8.106</td>\n",
       "    </tr>\n",
       "    <tr>\n",
       "      <th>4</th>\n",
       "      <td>1</td>\n",
       "      <td>05-03-2010</td>\n",
       "      <td>1554806.68</td>\n",
       "      <td>0</td>\n",
       "      <td>46.50</td>\n",
       "      <td>2.625</td>\n",
       "      <td>211.350143</td>\n",
       "      <td>8.106</td>\n",
       "    </tr>\n",
       "  </tbody>\n",
       "</table>\n",
       "</div>"
      ],
      "text/plain": [
       "   Store        Date  Weekly_Sales  Holiday_Flag  Temperature  Fuel_Price  \\\n",
       "0      1  05-02-2010    1643690.90             0        42.31       2.572   \n",
       "1      1  12-02-2010    1641957.44             1        38.51       2.548   \n",
       "2      1  19-02-2010    1611968.17             0        39.93       2.514   \n",
       "3      1  26-02-2010    1409727.59             0        46.63       2.561   \n",
       "4      1  05-03-2010    1554806.68             0        46.50       2.625   \n",
       "\n",
       "          CPI  Unemployment  \n",
       "0  211.096358         8.106  \n",
       "1  211.242170         8.106  \n",
       "2  211.289143         8.106  \n",
       "3  211.319643         8.106  \n",
       "4  211.350143         8.106  "
      ]
     },
     "execution_count": 6,
     "metadata": {},
     "output_type": "execute_result"
    }
   ],
   "source": [
    "walmart_dt = pd.read_csv(\"https://raw.githubusercontent.com/tuanqpham/toy_ds_project/main/Walmart.csv\")\n",
    "walmart_dt.head()\n"
   ]
  },
  {
   "cell_type": "markdown",
   "id": "eac0b2fe-4014-45e7-b6e7-6a91efe43b6c",
   "metadata": {
    "tags": []
   },
   "source": [
    "- An explanation of the variables (as provided by the onwer of the dataset):\n",
    "    * `Store`: the store number (encoded as type integers in the dataset).\n",
    "    * `Date`: the of sales in record.\n",
    "    * `Weekly_Sales`: the number of sales in that week.\n",
    "    * `Holiday_Flag`: indicates whether the week was a special holiday (1 = Holiday Week, 0 = Non-holiday week)\n",
    "    * `Temperature`: temperature recorded in the week.\n",
    "    * `Fuel_Price`: cost of fuel in the region.\n",
    "    * `Unemployment rate`: the unemployment rate"
   ]
  },
  {
   "cell_type": "markdown",
   "id": "26456ba3-b987-41b5-9beb-d70de1ea30ef",
   "metadata": {},
   "source": [
    "### C. Preliminary analysis:\n",
    "- In this section, we will be cleaning our dataset by keeping variables we believe are necessary in building our model. We will also be create visualizations to gain a better understanding of the relationships between the variable:\n"
   ]
  },
  {
   "cell_type": "code",
   "execution_count": null,
   "id": "444f32d1-a889-4a20-b689-bf8a58022e43",
   "metadata": {},
   "outputs": [],
   "source": []
  }
 ],
 "metadata": {
  "kernelspec": {
   "display_name": "Python 3 (ipykernel)",
   "language": "python",
   "name": "python3"
  },
  "language_info": {
   "codemirror_mode": {
    "name": "ipython",
    "version": 3
   },
   "file_extension": ".py",
   "mimetype": "text/x-python",
   "name": "python",
   "nbconvert_exporter": "python",
   "pygments_lexer": "ipython3",
   "version": "3.10.9"
  }
 },
 "nbformat": 4,
 "nbformat_minor": 5
}
